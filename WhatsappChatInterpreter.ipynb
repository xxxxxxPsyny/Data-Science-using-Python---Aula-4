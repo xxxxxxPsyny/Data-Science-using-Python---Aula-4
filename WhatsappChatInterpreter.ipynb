{
  "nbformat": 4,
  "nbformat_minor": 0,
  "metadata": {
    "colab": {
      "name": "Untitled7.ipynb",
      "provenance": []
    },
    "kernelspec": {
      "name": "python3",
      "display_name": "Python 3"
    },
    "language_info": {
      "name": "python"
    }
  },
  "cells": [
    {
      "cell_type": "code",
      "metadata": {
        "id": "CKF1P5P3cGkL"
      },
      "source": [
        "from datetime import datetime\n",
        "import calendar\n",
        "from pathlib import Path\n",
        "from collections import Counter\n",
        "import collections\n",
        "import pandas as pd\n",
        "import matplotlib\n",
        "import matplotlib.pyplot as plt\n",
        "import seaborn as sns"
      ],
      "execution_count": 11,
      "outputs": []
    },
    {
      "cell_type": "code",
      "metadata": {
        "colab": {
          "base_uri": "https://localhost:8080/"
        },
        "id": "arCnQ37kdw_i",
        "outputId": "e5a38095-42e9-49cc-8280-a6c9acb670a6"
      },
      "source": [
        "from datetime import datetime\n",
        "import calendar\n",
        "from pathlib import Path\n",
        "from collections import Counter\n",
        "import collections\n",
        "\n",
        "data_t, hora_t, arrayPalavras = [], [], []\n",
        "\n",
        "with open('_chat.txt', 'r', encoding='utf8') as f:\n",
        "    for linha in f:\n",
        "        try:\n",
        "            if linha[0:1] != \"[\":                \n",
        "                arrayPalavras.append(linha[linha.find(\": \") + 2 : linha[2:].find(\"[\")].replace('\\n','').split(' '))\n",
        "            else:\n",
        "                data_t.append(calendar.day_name[datetime.strptime(str(linha[1:9]), '%d/%m/%y').weekday()])\n",
        "                hora_t.append(linha[10:12])\n",
        "                arrayPalavras.append(linha[linha.find(\": \") + 2 : linha[2:].find(\"[\")].replace('\\n','').split(' '))                \n",
        "        except:\n",
        "            pass\n",
        "\n",
        "palavras = [j for i in arrayPalavras for j in i]\n",
        "\n",
        "for p in palavras:\n",
        "    if len(p) < 2:\n",
        "        palavras.remove(p)\n",
        "\n",
        "print(f'As 3 palavras mais trocadas na conversa: {Counter(palavras).most_common()[0]} {Counter(palavras).most_common()[1]} {Counter(palavras).most_common()[3]}')\n",
        "print(f'Dia da semana que mais troca mensagem: {Counter(data_t).most_common()[1]}')\n",
        "print(f'Horário do dia que mais troca mensagem: {Counter(hora_t).most_common()[1]}')\n",
        "print(f'Horário do dia que menos troca mensagem: {Counter(hora_t).most_common()[-1]}')"
      ],
      "execution_count": 12,
      "outputs": [
        {
          "output_type": "stream",
          "text": [
            "As 3 palavras mais trocadas na conversa: ('de', 320) ('pra', 170) ('um', 150)\n",
            "Dia da semana que mais troca mensagem: ('Tuesday', 331)\n",
            "Horário do dia que mais troca mensagem: ('11', 201)\n",
            "Horário do dia que menos troca mensagem: ('04', 1)\n"
          ],
          "name": "stdout"
        }
      ]
    }
  ]
}